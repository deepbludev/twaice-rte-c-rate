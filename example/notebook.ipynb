{
 "cells": [
  {
   "cell_type": "code",
   "execution_count": 13,
   "metadata": {},
   "outputs": [],
   "source": [
    "import numpy as np\n",
    "import pandas as pd"
   ]
  },
  {
   "cell_type": "code",
   "execution_count": 14,
   "metadata": {},
   "outputs": [
    {
     "data": {
      "text/html": [
       "<div>\n",
       "<style scoped>\n",
       "    .dataframe tbody tr th:only-of-type {\n",
       "        vertical-align: middle;\n",
       "    }\n",
       "\n",
       "    .dataframe tbody tr th {\n",
       "        vertical-align: top;\n",
       "    }\n",
       "\n",
       "    .dataframe thead th {\n",
       "        text-align: right;\n",
       "    }\n",
       "</style>\n",
       "<table border=\"1\" class=\"dataframe\">\n",
       "  <thead>\n",
       "    <tr style=\"text-align: right;\">\n",
       "      <th></th>\n",
       "      <th>current</th>\n",
       "      <th>voltage</th>\n",
       "      <th>soc</th>\n",
       "      <th>t</th>\n",
       "    </tr>\n",
       "  </thead>\n",
       "  <tbody>\n",
       "    <tr>\n",
       "      <th>count</th>\n",
       "      <td>86377.000000</td>\n",
       "      <td>86377.000000</td>\n",
       "      <td>86377.000000</td>\n",
       "      <td>86377.000000</td>\n",
       "    </tr>\n",
       "    <tr>\n",
       "      <th>mean</th>\n",
       "      <td>0.655906</td>\n",
       "      <td>1004.405162</td>\n",
       "      <td>65.222531</td>\n",
       "      <td>86376.000000</td>\n",
       "    </tr>\n",
       "    <tr>\n",
       "      <th>std</th>\n",
       "      <td>17.144998</td>\n",
       "      <td>50.034648</td>\n",
       "      <td>22.792818</td>\n",
       "      <td>49870.072876</td>\n",
       "    </tr>\n",
       "    <tr>\n",
       "      <th>min</th>\n",
       "      <td>-74.135154</td>\n",
       "      <td>859.146629</td>\n",
       "      <td>2.800000</td>\n",
       "      <td>0.000000</td>\n",
       "    </tr>\n",
       "    <tr>\n",
       "      <th>25%</th>\n",
       "      <td>-0.200000</td>\n",
       "      <td>969.319987</td>\n",
       "      <td>51.400000</td>\n",
       "      <td>43188.000000</td>\n",
       "    </tr>\n",
       "    <tr>\n",
       "      <th>50%</th>\n",
       "      <td>0.000000</td>\n",
       "      <td>990.500000</td>\n",
       "      <td>59.600000</td>\n",
       "      <td>86376.000000</td>\n",
       "    </tr>\n",
       "    <tr>\n",
       "      <th>75%</th>\n",
       "      <td>0.000000</td>\n",
       "      <td>1044.000000</td>\n",
       "      <td>86.000000</td>\n",
       "      <td>129564.000000</td>\n",
       "    </tr>\n",
       "    <tr>\n",
       "      <th>max</th>\n",
       "      <td>61.200000</td>\n",
       "      <td>1087.920681</td>\n",
       "      <td>97.700000</td>\n",
       "      <td>172752.000000</td>\n",
       "    </tr>\n",
       "  </tbody>\n",
       "</table>\n",
       "</div>"
      ],
      "text/plain": [
       "            current       voltage           soc              t\n",
       "count  86377.000000  86377.000000  86377.000000   86377.000000\n",
       "mean       0.655906   1004.405162     65.222531   86376.000000\n",
       "std       17.144998     50.034648     22.792818   49870.072876\n",
       "min      -74.135154    859.146629      2.800000       0.000000\n",
       "25%       -0.200000    969.319987     51.400000   43188.000000\n",
       "50%        0.000000    990.500000     59.600000   86376.000000\n",
       "75%        0.000000   1044.000000     86.000000  129564.000000\n",
       "max       61.200000   1087.920681     97.700000  172752.000000"
      ]
     },
     "execution_count": 14,
     "metadata": {},
     "output_type": "execute_result"
    }
   ],
   "source": [
    "df = pd.read_csv('data_sample.csv')\n",
    "\n",
    "# set time column to be 2 seconds apart\n",
    "df['t'] = np.arange(0, 2*len(df), 2)\n",
    "\n",
    "df.describe()"
   ]
  },
  {
   "cell_type": "code",
   "execution_count": 15,
   "metadata": {},
   "outputs": [],
   "source": [
    "def c_rate(df: pd.DataFrame, capacity: float) -> float:\n",
    "    C = capacity * 3600\n",
    "    I = df['current'].abs()\n",
    "    dSoC = df['soc'].diff().abs() / 100\n",
    "    \n",
    "    return (I.sum() / C) * (1 / dSoC.sum())"
   ]
  },
  {
   "cell_type": "code",
   "execution_count": 16,
   "metadata": {},
   "outputs": [
    {
     "data": {
      "text/plain": [
       "0.5323975331531735"
      ]
     },
     "execution_count": 16,
     "metadata": {},
     "output_type": "execute_result"
    }
   ],
   "source": [
    "c_rate(df=df, capacity=90)"
   ]
  },
  {
   "cell_type": "code",
   "execution_count": 17,
   "metadata": {},
   "outputs": [],
   "source": [
    "def rte(df: pd.DataFrame) -> float:\n",
    "    cols = ['soc', 'current', 'voltage']\n",
    "    dt = df['t'].diff() / 3600 # seconds in hours\n",
    "    \n",
    "    charge = df[df['current'] > 0][cols]\n",
    "    dSoC_charge = charge['soc'].diff().abs()\n",
    "    charged_energy = charge['current'] * charge['voltage'] * dt\n",
    "\n",
    "    discharge = df[df['current'] < 0][cols]\n",
    "    dSoC_discharge = discharge['soc'].diff().abs()\n",
    "    discharged_energy = discharge['current'].abs() * discharge['voltage'] * dt\n",
    "\n",
    "    return (discharged_energy.sum() / charged_energy.sum()) * (dSoC_charge.sum() / dSoC_discharge.sum())"
   ]
  },
  {
   "cell_type": "code",
   "execution_count": 18,
   "metadata": {},
   "outputs": [
    {
     "data": {
      "text/plain": [
       "0.7978238199725021"
      ]
     },
     "execution_count": 18,
     "metadata": {},
     "output_type": "execute_result"
    }
   ],
   "source": [
    "rte(df)"
   ]
  }
 ],
 "metadata": {
  "kernelspec": {
   "display_name": "twaice-rte-pOLSa1Y7-py3.11",
   "language": "python",
   "name": "python3"
  },
  "language_info": {
   "codemirror_mode": {
    "name": "ipython",
    "version": 3
   },
   "file_extension": ".py",
   "mimetype": "text/x-python",
   "name": "python",
   "nbconvert_exporter": "python",
   "pygments_lexer": "ipython3",
   "version": "3.11.1"
  },
  "vscode": {
   "interpreter": {
    "hash": "9993b8a5ddb4f967ae61e6df09d8122b263cf39382b3a4f04da7cd1fd21068e0"
   }
  }
 },
 "nbformat": 4,
 "nbformat_minor": 2
}
